{
 "cells": [
  {
   "cell_type": "markdown",
   "metadata": {},
   "source": [
    "# List Methods\n",
    "\n",
    "**1)** append() method\n",
    "\n",
    "**2)** insert() method\n",
    "\n",
    "**3)** pop() method\n",
    "\n",
    "**4)** remove() method"
   ]
  },
  {
   "cell_type": "markdown",
   "metadata": {},
   "source": [
    "# append() method\n",
    "\n",
    "## Definition :-\n",
    "**append() method is basically used for adding a new element at the end of your list.**\n",
    "\n",
    "## How to use .append() method?\n",
    "\n",
    "**step1)** Choose your list.\n",
    "\n",
    "**step2)** Use .append() on that list.\n",
    "\n",
    "Note :- Inside the parenthesis you can pass any elements that you want to add at the end of your list."
   ]
  },
  {
   "cell_type": "code",
   "execution_count": 8,
   "metadata": {},
   "outputs": [
    {
     "name": "stdout",
     "output_type": "stream",
     "text": [
      "['vishvesh', 67, 34]\n"
     ]
    }
   ],
   "source": [
    "my_list = ['vishvesh', 67]\n",
    "\n",
    "my_list.append(34)\n",
    "\n",
    "print(my_list)"
   ]
  },
  {
   "cell_type": "markdown",
   "metadata": {},
   "source": [
    "# insert() method\n",
    "\n",
    "## Definition :-\n",
    "\n",
    "**insert() method is used for adding a new element at specific index.**\n",
    "\n",
    "## MIMP Note :-\n",
    "**It takes 2 parameters. insert(a,b)**\n",
    "\n",
    "where a is the index and b is the element that you want to insert at index that you mentioned.\n",
    "\n",
    "## How to use .insert() method?\n",
    "\n",
    "**step1)** Choose your list.\n",
    "\n",
    "**step2)** Use .insert(index, element) on that list.\n",
    "\n",
    "Note :- Inside the parenthesis you have to mention two parameters. First is index and second is element."
   ]
  },
  {
   "cell_type": "code",
   "execution_count": 11,
   "metadata": {},
   "outputs": [
    {
     "name": "stdout",
     "output_type": "stream",
     "text": [
      "['vishvesh', 'meet', 67, 'cricket']\n"
     ]
    }
   ],
   "source": [
    "my_list = ['vishvesh', 67, 'cricket']\n",
    "\n",
    "my_list.insert(1, 'meet')\n",
    "\n",
    "print(my_list)"
   ]
  },
  {
   "cell_type": "markdown",
   "metadata": {},
   "source": [
    "# pop() method\n",
    "\n",
    "## Definition :-\n",
    "\n",
    "**pop() method is used for removing a last element from a list.**\n",
    "\n",
    "## MIMP Note :-\n",
    "**It takes one parameter. It is up to you. If you don't pass any parameter then it deletes last element and if you pass index as a parameter than it deletes an element at that index.**\n",
    "\n",
    "\n",
    "## How to use .pop() method?\n",
    "\n",
    "**step1)** Choose your list.\n",
    "\n",
    "**step2)** Use .pop() on that list.\n",
    "\n",
    "Note :- Inside the parenthesis you can type index."
   ]
  },
  {
   "cell_type": "code",
   "execution_count": 18,
   "metadata": {},
   "outputs": [
    {
     "name": "stdout",
     "output_type": "stream",
     "text": [
      "['vishvesh', 'vishu']\n"
     ]
    }
   ],
   "source": [
    "my_list = ['vishvesh', 67, 'vishu']\n",
    "\n",
    "my_list.pop(1)\n",
    "\n",
    "print(my_list)"
   ]
  },
  {
   "cell_type": "markdown",
   "metadata": {},
   "source": [
    "# remove() method\n",
    "\n",
    "## Definition :-\n",
    "\n",
    "**remove() method is used for removing an element from a list.**\n",
    "\n",
    "## MIMP Note :-\n",
    "**It takes one parameter which is value that you want to delete from the list.**\n",
    "\n",
    "\n",
    "## How to use .remove() method?\n",
    "\n",
    "**step1)** Choose your list.\n",
    "\n",
    "**step2)** Use .remove(value) on that list.\n",
    "\n",
    "Note :- Inside the parenthesis you can type value."
   ]
  },
  {
   "cell_type": "code",
   "execution_count": 19,
   "metadata": {},
   "outputs": [
    {
     "name": "stdout",
     "output_type": "stream",
     "text": [
      "[67, 'vishu']\n"
     ]
    }
   ],
   "source": [
    "my_list = ['vishvesh', 67, 'vishu']\n",
    "\n",
    "my_list.remove('vishvesh')\n",
    "\n",
    "print(my_list)"
   ]
  },
  {
   "cell_type": "code",
   "execution_count": null,
   "metadata": {},
   "outputs": [],
   "source": []
  }
 ],
 "metadata": {
  "kernelspec": {
   "display_name": "Python 3",
   "language": "python",
   "name": "python3"
  },
  "language_info": {
   "codemirror_mode": {
    "name": "ipython",
    "version": 3
   },
   "file_extension": ".py",
   "mimetype": "text/x-python",
   "name": "python",
   "nbconvert_exporter": "python",
   "pygments_lexer": "ipython3",
   "version": "3.8.6"
  }
 },
 "nbformat": 4,
 "nbformat_minor": 4
}
